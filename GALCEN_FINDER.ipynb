{
 "cells": [
  {
   "cell_type": "markdown",
   "id": "7c07dbac-a382-46af-9ad4-b0c09a98d274",
   "metadata": {},
   "source": [
    "## Python Libraries"
   ]
  },
  {
   "cell_type": "code",
   "execution_count": 3,
   "id": "c2b4eb8e-2a6c-43b9-8ad7-fee7727388de",
   "metadata": {},
   "outputs": [],
   "source": [
    "#Python Libraries used to write the code to locate the center of the galaxies from simulations\n",
    "import numpy as np\n",
    "import matplotlib.pyplot as plt\n",
    "import yt"
   ]
  },
  {
   "cell_type": "markdown",
   "id": "cdcdcec1-f8c6-4489-b62b-6833c7debb44",
   "metadata": {},
   "source": [
    "## Loading Simulation and Halo finder data"
   ]
  },
  {
   "cell_type": "code",
   "execution_count": 4,
   "id": "0f3829eb-e621-43e5-aa06-c0db0f2e032c",
   "metadata": {},
   "outputs": [
    {
     "name": "stderr",
     "output_type": "stream",
     "text": [
      "yt : [INFO     ] 2024-09-23 23:20:18,603 Parameters: current_time              = 2.9081112282590813\n",
      "yt : [INFO     ] 2024-09-23 23:20:18,604 Parameters: domain_dimensions         = [256 256 256]\n",
      "yt : [INFO     ] 2024-09-23 23:20:18,605 Parameters: domain_left_edge          = [0. 0. 0.]\n",
      "yt : [INFO     ] 2024-09-23 23:20:18,605 Parameters: domain_right_edge         = [1. 1. 1.]\n",
      "yt : [INFO     ] 2024-09-23 23:20:18,605 Parameters: cosmological_simulation   = 1\n",
      "yt : [INFO     ] 2024-09-23 23:20:18,606 Parameters: current_redshift          = 5.025463446669748\n",
      "yt : [INFO     ] 2024-09-23 23:20:18,606 Parameters: omega_lambda              = 0.684700012207031\n",
      "yt : [INFO     ] 2024-09-23 23:20:18,606 Parameters: omega_matter              = 0.315299987792969\n",
      "yt : [INFO     ] 2024-09-23 23:20:18,606 Parameters: omega_radiation           = 0.0\n",
      "yt : [INFO     ] 2024-09-23 23:20:18,607 Parameters: hubble_constant           = 0.673600006103516\n"
     ]
    }
   ],
   "source": [
    "#Loading the Ramses simulation snapshot and corresponding Amiga halo finder data\n",
    "Ramses_snapshot_path  = \"/vol/calvin/data/sswamynathan/HI_res_runs/HiRes_NSC_run_lvl9/output_00050\"\n",
    "AHF_halos_path        = \"/vol/calvin/data/sswamynathan/AHF_new/output_50_NSC_BH5M.z5.025.AHF_halos\"\n",
    "\n",
    "Ramses_snapshot_data  = yt.load(Ramses_snapshot_path)\n",
    "AHF_halo_data         = np.loadtxt(AHF_halos_path, skiprows=1)  "
   ]
  },
  {
   "cell_type": "code",
   "execution_count": null,
   "id": "48a8daa4-80a8-4e2b-8a91-6bc97f10cb08",
   "metadata": {},
   "outputs": [],
   "source": []
  }
 ],
 "metadata": {
  "kernelspec": {
   "display_name": "Python 3 (ipykernel)",
   "language": "python",
   "name": "python3"
  },
  "language_info": {
   "codemirror_mode": {
    "name": "ipython",
    "version": 3
   },
   "file_extension": ".py",
   "mimetype": "text/x-python",
   "name": "python",
   "nbconvert_exporter": "python",
   "pygments_lexer": "ipython3",
   "version": "3.10.12"
  }
 },
 "nbformat": 4,
 "nbformat_minor": 5
}
